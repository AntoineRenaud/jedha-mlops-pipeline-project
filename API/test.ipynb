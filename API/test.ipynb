{
 "cells": [
  {
   "cell_type": "code",
   "execution_count": 2,
   "metadata": {},
   "outputs": [],
   "source": [
    "import os \n",
    "\n",
    "import mlflow\n",
    "from mlflow import MlflowClient\n",
    "import boto3"
   ]
  },
  {
   "cell_type": "markdown",
   "metadata": {},
   "source": [
    "# MLFlow tests"
   ]
  },
  {
   "cell_type": "code",
   "execution_count": 9,
   "metadata": {},
   "outputs": [
    {
     "data": {
      "text/plain": [
       "'2.18.0'"
      ]
     },
     "execution_count": 9,
     "metadata": {},
     "output_type": "execute_result"
    }
   ],
   "source": [
    "mlflow.__version__"
   ]
  },
  {
   "cell_type": "code",
   "execution_count": 7,
   "metadata": {},
   "outputs": [
    {
     "name": "stdout",
     "output_type": "stream",
     "text": [
      "https://mlops-mlflow-server-f343fd64a681.herokuapp.com\n"
     ]
    }
   ],
   "source": [
    "print(os.environ.get('APP_URI'))"
   ]
  },
  {
   "cell_type": "code",
   "execution_count": 8,
   "metadata": {},
   "outputs": [
    {
     "name": "stdout",
     "output_type": "stream",
     "text": [
      "<ModelVersion: aliases=['production'], creation_timestamp=1732369907922, current_stage='None', description='', last_updated_timestamp=1732369907922, name='fraud-detection', run_id='a1215fe04aba446b962610eb95f3b13b', run_link='', source='s3://jedhamlopsproject-mlflow/1/a1215fe04aba446b962610eb95f3b13b/artifacts/fraud-detection', status='READY', status_message='', tags={}, user_id='', version='1'>\n"
     ]
    }
   ],
   "source": [
    "# Loading model from MLFlow server.\n",
    "client = MlflowClient()\n",
    "mlflow.set_tracking_uri(os.environ.get('APP_URI'))\n",
    "model_name = 'fraud-detection'\n",
    "alias = 'production'\n",
    "model_uri = f\"models:/{model_name}@{alias}\"\n",
    "\n",
    "model_info = client.get_model_version_by_alias(model_name, alias)\n",
    "print(model_info)\n",
    "\n",
    "model = mlflow.pyfunc.load_model(model_info.source)"
   ]
  },
  {
   "cell_type": "markdown",
   "metadata": {},
   "source": [
    "# AWS Tests"
   ]
  },
  {
   "cell_type": "code",
   "execution_count": 18,
   "metadata": {},
   "outputs": [],
   "source": [
    "API_KEY = os.environ['AWS_ACCESS_KEY_ID']\n",
    "SECRET_KEY = os.environ['AWS_SECRET_ACCESS_KEY']\n",
    "ARTIFACT_URI = 'jedhamlopsproject-mlflow'"
   ]
  },
  {
   "cell_type": "code",
   "execution_count": 20,
   "metadata": {},
   "outputs": [],
   "source": [
    "s3_client = boto3.client(\n",
    "\"s3\",\n",
    "aws_access_key_id=API_KEY,\n",
    "aws_secret_access_key=SECRET_KEY,\n",
    ")\n",
    "\n",
    "response = s3_client.put_object(Bucket=ARTIFACT_URI, Key=\"requirements.txt\")\n",
    "status = response.get(\"ResponseMetadata\", {}).get(\"HTTPStatusCode\")\n",
    "\n"
   ]
  },
  {
   "cell_type": "code",
   "execution_count": 14,
   "metadata": {},
   "outputs": [
    {
     "data": {
      "text/plain": [
       "{'ResponseMetadata': {'RequestId': 'PMADMX8T4RNE19GZ',\n",
       "  'HostId': 'hZcuRIFAPvL6t2FpPR/Wh02sYomZe2o9A4WlvP9lL8vB25O987vJTqfBSFPhbh7A+mmvHdx4W5hpxm6aD0aCe/RsR4R3tL6a',\n",
       "  'HTTPStatusCode': 200,\n",
       "  'HTTPHeaders': {'x-amz-id-2': 'hZcuRIFAPvL6t2FpPR/Wh02sYomZe2o9A4WlvP9lL8vB25O987vJTqfBSFPhbh7A+mmvHdx4W5hpxm6aD0aCe/RsR4R3tL6a',\n",
       "   'x-amz-request-id': 'PMADMX8T4RNE19GZ',\n",
       "   'date': 'Sat, 23 Nov 2024 13:11:35 GMT',\n",
       "   'x-amz-server-side-encryption': 'AES256',\n",
       "   'etag': '\"3f1b6032cc33b933899301ad594e54d1\"',\n",
       "   'content-length': '0',\n",
       "   'server': 'AmazonS3'},\n",
       "  'RetryAttempts': 0},\n",
       " 'ETag': '\"3f1b6032cc33b933899301ad594e54d1\"',\n",
       " 'ServerSideEncryption': 'AES256'}"
      ]
     },
     "execution_count": 14,
     "metadata": {},
     "output_type": "execute_result"
    }
   ],
   "source": [
    "s3_client.put_object(\n",
    "    Bucket=ARTIFACT_URI, Key=\"fraud-detection/cleaned-dataset.csv\", Body='API/test.ipynb'\n",
    ")"
   ]
  }
 ],
 "metadata": {
  "kernelspec": {
   "display_name": "ml-env",
   "language": "python",
   "name": "python3"
  },
  "language_info": {
   "codemirror_mode": {
    "name": "ipython",
    "version": 3
   },
   "file_extension": ".py",
   "mimetype": "text/x-python",
   "name": "python",
   "nbconvert_exporter": "python",
   "pygments_lexer": "ipython3",
   "version": "3.10.14"
  }
 },
 "nbformat": 4,
 "nbformat_minor": 2
}
